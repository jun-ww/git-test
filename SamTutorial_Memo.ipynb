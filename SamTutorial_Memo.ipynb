{
  "nbformat": 4,
  "nbformat_minor": 0,
  "metadata": {
    "colab": {
      "name": "SamTutorial_Memo.ipynb",
      "provenance": [],
      "collapsed_sections": [],
      "include_colab_link": true
    },
    "kernelspec": {
      "display_name": "Python 3",
      "language": "python",
      "name": "python3"
    },
    "language_info": {
      "codemirror_mode": {
        "name": "ipython",
        "version": 3
      },
      "file_extension": ".py",
      "mimetype": "text/x-python",
      "name": "python",
      "nbconvert_exporter": "python",
      "pygments_lexer": "ipython3",
      "version": "3.7.3"
    },
    "accelerator": "GPU"
  },
  "cells": [
    {
      "cell_type": "markdown",
      "metadata": {
        "id": "view-in-github",
        "colab_type": "text"
      },
      "source": [
        "<a href=\"https://colab.research.google.com/github/jun-ww/git-test/blob/master/SamTutorial_Memo.ipynb\" target=\"_parent\"><img src=\"https://colab.research.google.com/assets/colab-badge.svg\" alt=\"Open In Colab\"/></a>"
      ]
    },
    {
      "cell_type": "code",
      "metadata": {
        "id": "mec4zczi4MnT",
        "colab_type": "code",
        "colab": {
          "base_uri": "https://localhost:8080/",
          "height": 122
        },
        "outputId": "c1db00bc-785a-4b95-a346-935344fd40dc"
      },
      "source": [
        "from google.colab import drive\n",
        "drive.mount('/content/Drive')"
      ],
      "execution_count": null,
      "outputs": [
        {
          "output_type": "stream",
          "text": [
            "Go to this URL in a browser: https://accounts.google.com/o/oauth2/auth?client_id=947318989803-6bn6qk8qdgf4n4g3pfee6491hc0brc4i.apps.googleusercontent.com&redirect_uri=urn%3aietf%3awg%3aoauth%3a2.0%3aoob&response_type=code&scope=email%20https%3a%2f%2fwww.googleapis.com%2fauth%2fdocs.test%20https%3a%2f%2fwww.googleapis.com%2fauth%2fdrive%20https%3a%2f%2fwww.googleapis.com%2fauth%2fdrive.photos.readonly%20https%3a%2f%2fwww.googleapis.com%2fauth%2fpeopleapi.readonly\n",
            "\n",
            "Enter your authorization code:\n",
            "··········\n",
            "Mounted at /content/Drive\n"
          ],
          "name": "stdout"
        }
      ]
    },
    {
      "cell_type": "code",
      "metadata": {
        "colab_type": "code",
        "id": "CvdtQVGoDx6S",
        "colab": {
          "base_uri": "https://localhost:8080/",
          "height": 34
        },
        "outputId": "c055b34f-f0fa-4788-9ada-aa909bd8d801"
      },
      "source": [
        "import tensorflow as tf\n",
        "from PIL import Image\n",
        "import os\n",
        "import numpy as np\n",
        "import cv2\n",
        "\n",
        "import glob\n",
        "\n",
        "\n",
        "datagen = tf.keras.preprocessing.image.ImageDataGenerator(validation_split=0.2, rescale=1. / 255.)\n",
        "\n",
        "batch_size = 512\n",
        "epochs = 15\n",
        "height = 200\n",
        "width = 200\n",
        "\n",
        "train=datagen.flow_from_directory(\n",
        "    '/content/Drive/My Drive/memo/memoTrain',\n",
        "    target_size=(height, width),\n",
        "    batch_size=int(batch_size),\n",
        "    class_mode='binary',\n",
        "    subset='training')\n"
      ],
      "execution_count": null,
      "outputs": [
        {
          "output_type": "stream",
          "text": [
            "Found 15980 images belonging to 1 classes.\n"
          ],
          "name": "stdout"
        }
      ]
    },
    {
      "cell_type": "code",
      "metadata": {
        "colab_type": "code",
        "id": "lxqBli0MENZH",
        "colab": {
          "base_uri": "https://localhost:8080/",
          "height": 34
        },
        "outputId": "016032ba-862d-4f06-d634-618f1970a109"
      },
      "source": [
        "val_it = datagen.flow_from_directory(\n",
        "    '/content/Drive/My Drive/memo/memoVal',\n",
        "    target_size=(height, width),\n",
        "    batch_size=int(batch_size),\n",
        "    class_mode='binary',\n",
        "    subset='validation')\n"
      ],
      "execution_count": null,
      "outputs": [
        {
          "output_type": "stream",
          "text": [
            "Found 506 images belonging to 1 classes.\n"
          ],
          "name": "stdout"
        }
      ]
    },
    {
      "cell_type": "code",
      "metadata": {
        "colab_type": "code",
        "id": "xWKf_eiCENs9",
        "colab": {
          "base_uri": "https://localhost:8080/",
          "height": 34
        },
        "outputId": "dad08212-c3b3-403d-8bf3-e6d5551fcba2"
      },
      "source": [
        "from keras.layers import Input, Dense, Conv2D, MaxPooling2D, UpSampling2D, Flatten, Dropout, Reshape\n",
        "from keras.models import Model\n",
        "from keras import backend as K\n",
        "\n",
        "input_img = Input(shape=(height, width, 3))  \n",
        "letentDimension = 32\n",
        "\n",
        "x = Conv2D(16, (3, 3), activation='relu', padding='same')(input_img)\n",
        "x = MaxPooling2D((2, 2), padding='same')(x)\n",
        "x = Conv2D(8, (3, 3), activation='relu', padding='same')(x)\n",
        "x = MaxPooling2D((2, 2), padding='same')(x)\n",
        "x = Conv2D(8, (3, 3), activation='relu', padding='same')(x)\n",
        "x = MaxPooling2D((2, 2), padding='same')(x)\n",
        "\n",
        "x = Flatten()(x)\n",
        "encoded = Dense(letentDimension)(x)\n"
      ],
      "execution_count": null,
      "outputs": [
        {
          "output_type": "stream",
          "text": [
            "Using TensorFlow backend.\n"
          ],
          "name": "stderr"
        }
      ]
    },
    {
      "cell_type": "code",
      "metadata": {
        "id": "FYjet86q4KUp",
        "colab_type": "code",
        "colab": {}
      },
      "source": [
        ""
      ],
      "execution_count": null,
      "outputs": []
    },
    {
      "cell_type": "code",
      "metadata": {
        "colab_type": "code",
        "id": "B_tkxxwlF2Sv",
        "colab": {}
      },
      "source": [
        "x = Reshape((4,4,-1), input_shape=(letentDimension,))(encoded)\n",
        "x = Conv2D(8, (3, 3), activation='relu', padding='same')(x)\n",
        "x = UpSampling2D((2, 2))(x)\n",
        "x = Conv2D(8, (3, 3), activation='relu', padding='same')(x)\n",
        "x = UpSampling2D((2, 2))(x)\n",
        "x = Conv2D(16, (3, 3), activation='relu')(x)\n",
        "x = UpSampling2D((2, 2))(x)\n",
        "x = Conv2D(3, (3, 3), activation='relu', padding='same')(x)\n",
        "decoded = Flatten()(x)\n",
        "\n"
      ],
      "execution_count": null,
      "outputs": []
    },
    {
      "cell_type": "code",
      "metadata": {
        "colab_type": "code",
        "id": "QMspHW7CF2V0",
        "colab": {}
      },
      "source": [
        "encoder = Model(input_img, encoded)\n",
        "encoder.compile(optimizer='adadelta', loss='sparse_categorical_crossentropy')\n",
        "\n",
        "autoencoder = Model(input_img, decoded)\n",
        "autoencoder.compile(optimizer='adadelta', loss='sparse_categorical_crossentropy')\n"
      ],
      "execution_count": null,
      "outputs": []
    },
    {
      "cell_type": "code",
      "metadata": {
        "colab_type": "code",
        "id": "TAWvhbEfKQHY",
        "colab": {}
      },
      "source": [
        "from keras.callbacks import EarlyStopping, ModelCheckpoint\n",
        "\n",
        "checkpoint = ModelCheckpoint('/content/Drive/My Drive/autoencoderData/Output_Autoencoder/encoded_decoded_weightss.h5', monitor='loss', verbose=1)\n"
      ],
      "execution_count": null,
      "outputs": []
    },
    {
      "cell_type": "code",
      "metadata": {
        "colab_type": "code",
        "id": "68UhKZpCKQKa",
        "colab": {
          "base_uri": "https://localhost:8080/",
          "height": 1000
        },
        "outputId": "18614eb7-51bc-4a95-948d-45d0b1c71aea"
      },
      "source": [
        "autoencoder.fit(train,\n",
        "                epochs=2000,\n",
        "                shuffle=True,\n",
        "                validation_data=val_it,\n",
        "                callbacks = [checkpoint])\n"
      ],
      "execution_count": null,
      "outputs": [
        {
          "output_type": "stream",
          "text": [
            "Epoch 1/2000\n"
          ],
          "name": "stdout"
        },
        {
          "output_type": "stream",
          "text": [
            "/usr/local/lib/python3.6/dist-packages/keras/utils/data_utils.py:616: UserWarning: The input 18 could not be retrieved. It could be because a worker has died.\n",
            "  UserWarning)\n"
          ],
          "name": "stderr"
        },
        {
          "output_type": "stream",
          "text": [
            "\r 1/32 [..............................] - ETA: 1:32:43 - loss: 8.0245"
          ],
          "name": "stdout"
        },
        {
          "output_type": "stream",
          "text": [
            "/usr/local/lib/python3.6/dist-packages/keras/utils/data_utils.py:616: UserWarning: The input 23 could not be retrieved. It could be because a worker has died.\n",
            "  UserWarning)\n"
          ],
          "name": "stderr"
        },
        {
          "output_type": "stream",
          "text": [
            "\b\b\b\b\b\b\b\b\b\b\b\b\b\b\b\b\b\b\b\b\b\b\b\b\b\b\b\b\b\b\b\b\b\b\b\b\b\b\b\b\b\b\b\b\b\b\b\b\b\b\b\b\b\b\b\b\b\b\b\b\b\b\b\b\b\b\b\b\r 2/32 [>.............................] - ETA: 1:24:29 - loss: 6.8903"
          ],
          "name": "stdout"
        },
        {
          "output_type": "stream",
          "text": [
            "/usr/local/lib/python3.6/dist-packages/keras/utils/data_utils.py:616: UserWarning: The input 30 could not be retrieved. It could be because a worker has died.\n",
            "  UserWarning)\n"
          ],
          "name": "stderr"
        },
        {
          "output_type": "stream",
          "text": [
            "\b\b\b\b\b\b\b\b\b\b\b\b\b\b\b\b\b\b\b\b\b\b\b\b\b\b\b\b\b\b\b\b\b\b\b\b\b\b\b\b\b\b\b\b\b\b\b\b\b\b\b\b\b\b\b\b\b\b\b\b\b\b\b\b\b\b\b\b\r 3/32 [=>............................] - ETA: 1:20:44 - loss: 5.9109"
          ],
          "name": "stdout"
        },
        {
          "output_type": "stream",
          "text": [
            "/usr/local/lib/python3.6/dist-packages/keras/utils/data_utils.py:616: UserWarning: The input 7 could not be retrieved. It could be because a worker has died.\n",
            "  UserWarning)\n"
          ],
          "name": "stderr"
        },
        {
          "output_type": "stream",
          "text": [
            "\b\b\b\b\b\b\b\b\b\b\b\b\b\b\b\b\b\b\b\b\b\b\b\b\b\b\b\b\b\b\b\b\b\b\b\b\b\b\b\b\b\b\b\b\b\b\b\b\b\b\b\b\b\b\b\b\b\b\b\b\b\b\b\b\b\b\b\b\r 4/32 [==>...........................] - ETA: 1:18:04 - loss: 5.1824"
          ],
          "name": "stdout"
        },
        {
          "output_type": "stream",
          "text": [
            "/usr/local/lib/python3.6/dist-packages/keras/utils/data_utils.py:616: UserWarning: The input 21 could not be retrieved. It could be because a worker has died.\n",
            "  UserWarning)\n"
          ],
          "name": "stderr"
        },
        {
          "output_type": "stream",
          "text": [
            "\b\b\b\b\b\b\b\b\b\b\b\b\b\b\b\b\b\b\b\b\b\b\b\b\b\b\b\b\b\b\b\b\b\b\b\b\b\b\b\b\b\b\b\b\b\b\b\b\b\b\b\b\b\b\b\b\b\b\b\b\b\b\b\b\b\b\b\b\r 5/32 [===>..........................] - ETA: 1:15:29 - loss: 4.6667"
          ],
          "name": "stdout"
        },
        {
          "output_type": "stream",
          "text": [
            "/usr/local/lib/python3.6/dist-packages/keras/utils/data_utils.py:616: UserWarning: The input 3 could not be retrieved. It could be because a worker has died.\n",
            "  UserWarning)\n"
          ],
          "name": "stderr"
        },
        {
          "output_type": "stream",
          "text": [
            "\b\b\b\b\b\b\b\b\b\b\b\b\b\b\b\b\b\b\b\b\b\b\b\b\b\b\b\b\b\b\b\b\b\b\b\b\b\b\b\b\b\b\b\b\b\b\b\b\b\b\b\b\b\b\b\b\b\b\b\b\b\b\b\b\b\b\b\b\r 6/32 [====>.........................] - ETA: 1:12:47 - loss: 4.2838"
          ],
          "name": "stdout"
        },
        {
          "output_type": "stream",
          "text": [
            "/usr/local/lib/python3.6/dist-packages/keras/utils/data_utils.py:616: UserWarning: The input 24 could not be retrieved. It could be because a worker has died.\n",
            "  UserWarning)\n"
          ],
          "name": "stderr"
        },
        {
          "output_type": "stream",
          "text": [
            "\b\b\b\b\b\b\b\b\b\b\b\b\b\b\b\b\b\b\b\b\b\b\b\b\b\b\b\b\b\b\b\b\b\b\b\b\b\b\b\b\b\b\b\b\b\b\b\b\b\b\b\b\b\b\b\b\b\b\b\b\b\b\b\b\b\b\b\b\r 7/32 [=====>........................] - ETA: 1:10:25 - loss: 4.0191"
          ],
          "name": "stdout"
        },
        {
          "output_type": "stream",
          "text": [
            "/usr/local/lib/python3.6/dist-packages/keras/utils/data_utils.py:616: UserWarning: The input 25 could not be retrieved. It could be because a worker has died.\n",
            "  UserWarning)\n"
          ],
          "name": "stderr"
        },
        {
          "output_type": "stream",
          "text": [
            "\b\b\b\b\b\b\b\b\b\b\b\b\b\b\b\b\b\b\b\b\b\b\b\b\b\b\b\b\b\b\b\b\b\b\b\b\b\b\b\b\b\b\b\b\b\b\b\b\b\b\b\b\b\b\b\b\b\b\b\b\b\b\b\b\b\b\b\b\r 8/32 [======>.......................] - ETA: 1:08:02 - loss: 3.6758"
          ],
          "name": "stdout"
        },
        {
          "output_type": "stream",
          "text": [
            "/usr/local/lib/python3.6/dist-packages/keras/utils/data_utils.py:616: UserWarning: The input 0 could not be retrieved. It could be because a worker has died.\n",
            "  UserWarning)\n"
          ],
          "name": "stderr"
        },
        {
          "output_type": "stream",
          "text": [
            "\b\b\b\b\b\b\b\b\b\b\b\b\b\b\b\b\b\b\b\b\b\b\b\b\b\b\b\b\b\b\b\b\b\b\b\b\b\b\b\b\b\b\b\b\b\b\b\b\b\b\b\b\b\b\b\b\b\b\b\b\b\b\b\b\b\b\b\b\r 9/32 [=======>......................] - ETA: 1:05:10 - loss: 3.2881"
          ],
          "name": "stdout"
        },
        {
          "output_type": "stream",
          "text": [
            "/usr/local/lib/python3.6/dist-packages/keras/utils/data_utils.py:616: UserWarning: The input 11 could not be retrieved. It could be because a worker has died.\n",
            "  UserWarning)\n"
          ],
          "name": "stderr"
        },
        {
          "output_type": "stream",
          "text": [
            "\b\b\b\b\b\b\b\b\b\b\b\b\b\b\b\b\b\b\b\b\b\b\b\b\b\b\b\b\b\b\b\b\b\b\b\b\b\b\b\b\b\b\b\b\b\b\b\b\b\b\b\b\b\b\b\b\b\b\b\b\b\b\b\b\b\b\b\b\r10/32 [========>.....................] - ETA: 1:02:09 - loss: 3.0480"
          ],
          "name": "stdout"
        },
        {
          "output_type": "stream",
          "text": [
            "/usr/local/lib/python3.6/dist-packages/keras/utils/data_utils.py:616: UserWarning: The input 17 could not be retrieved. It could be because a worker has died.\n",
            "  UserWarning)\n"
          ],
          "name": "stderr"
        },
        {
          "output_type": "stream",
          "text": [
            "\b\b\b\b\b\b\b\b\b\b\b\b\b\b\b\b\b\b\b\b\b\b\b\b\b\b\b\b\b\b\b\b\b\b\b\b\b\b\b\b\b\b\b\b\b\b\b\b\b\b\b\b\b\b\b\b\b\b\b\b\b\b\b\b\b\b\b\b\r11/32 [=========>....................] - ETA: 59:28 - loss: 2.9236  "
          ],
          "name": "stdout"
        },
        {
          "output_type": "stream",
          "text": [
            "/usr/local/lib/python3.6/dist-packages/keras/utils/data_utils.py:616: UserWarning: The input 27 could not be retrieved. It could be because a worker has died.\n",
            "  UserWarning)\n"
          ],
          "name": "stderr"
        },
        {
          "output_type": "stream",
          "text": [
            "\b\b\b\b\b\b\b\b\b\b\b\b\b\b\b\b\b\b\b\b\b\b\b\b\b\b\b\b\b\b\b\b\b\b\b\b\b\b\b\b\b\b\b\b\b\b\b\b\b\b\b\b\b\b\b\b\b\b\b\b\b\b\b\b\b\b\r12/32 [==========>...................] - ETA: 56:42 - loss: 2.7249"
          ],
          "name": "stdout"
        },
        {
          "output_type": "stream",
          "text": [
            "/usr/local/lib/python3.6/dist-packages/keras/utils/data_utils.py:616: UserWarning: The input 8 could not be retrieved. It could be because a worker has died.\n",
            "  UserWarning)\n"
          ],
          "name": "stderr"
        },
        {
          "output_type": "stream",
          "text": [
            "\b\b\b\b\b\b\b\b\b\b\b\b\b\b\b\b\b\b\b\b\b\b\b\b\b\b\b\b\b\b\b\b\b\b\b\b\b\b\b\b\b\b\b\b\b\b\b\b\b\b\b\b\b\b\b\b\b\b\b\b\b\b\b\b\b\b\r13/32 [===========>..................] - ETA: 53:50 - loss: 2.5379"
          ],
          "name": "stdout"
        },
        {
          "output_type": "stream",
          "text": [
            "/usr/local/lib/python3.6/dist-packages/keras/utils/data_utils.py:616: UserWarning: The input 6 could not be retrieved. It could be because a worker has died.\n",
            "  UserWarning)\n"
          ],
          "name": "stderr"
        },
        {
          "output_type": "stream",
          "text": [
            "\b\b\b\b\b\b\b\b\b\b\b\b\b\b\b\b\b\b\b\b\b\b\b\b\b\b\b\b\b\b\b\b\b\b\b\b\b\b\b\b\b\b\b\b\b\b\b\b\b\b\b\b\b\b\b\b\b\b\b\b\b\b\b\b\b\b\r14/32 [============>.................] - ETA: 50:55 - loss: 2.3700"
          ],
          "name": "stdout"
        },
        {
          "output_type": "stream",
          "text": [
            "/usr/local/lib/python3.6/dist-packages/keras/utils/data_utils.py:616: UserWarning: The input 22 could not be retrieved. It could be because a worker has died.\n",
            "  UserWarning)\n"
          ],
          "name": "stderr"
        },
        {
          "output_type": "stream",
          "text": [
            "\b\b\b\b\b\b\b\b\b\b\b\b\b\b\b\b\b\b\b\b\b\b\b\b\b\b\b\b\b\b\b\b\b\b\b\b\b\b\b\b\b\b\b\b\b\b\b\b\b\b\b\b\b\b\b\b\b\b\b\b\b\b\b\b\b\b\r15/32 [=============>................] - ETA: 48:03 - loss: 2.2196"
          ],
          "name": "stdout"
        },
        {
          "output_type": "stream",
          "text": [
            "/usr/local/lib/python3.6/dist-packages/keras/utils/data_utils.py:616: UserWarning: The input 2 could not be retrieved. It could be because a worker has died.\n",
            "  UserWarning)\n"
          ],
          "name": "stderr"
        },
        {
          "output_type": "stream",
          "text": [
            "\b\b\b\b\b\b\b\b\b\b\b\b\b\b\b\b\b\b\b\b\b\b\b\b\b\b\b\b\b\b\b\b\b\b\b\b\b\b\b\b\b\b\b\b\b\b\b\b\b\b\b\b\b\b\b\b\b\b\b\b\b\b\b\b\b\b\r16/32 [==============>...............] - ETA: 45:11 - loss: 2.0815"
          ],
          "name": "stdout"
        },
        {
          "output_type": "stream",
          "text": [
            "/usr/local/lib/python3.6/dist-packages/keras/utils/data_utils.py:616: UserWarning: The input 14 could not be retrieved. It could be because a worker has died.\n",
            "  UserWarning)\n"
          ],
          "name": "stderr"
        },
        {
          "output_type": "stream",
          "text": [
            "\b\b\b\b\b\b\b\b\b\b\b\b\b\b\b\b\b\b\b\b\b\b\b\b\b\b\b\b\b\b\b\b\b\b\b\b\b\b\b\b\b\b\b\b\b\b\b\b\b\b\b\b\b\b\b\b\b\b\b\b\b\b\b\b\b\b\r17/32 [==============>...............] - ETA: 42:21 - loss: 1.9602"
          ],
          "name": "stdout"
        },
        {
          "output_type": "stream",
          "text": [
            "/usr/local/lib/python3.6/dist-packages/keras/utils/data_utils.py:616: UserWarning: The input 9 could not be retrieved. It could be because a worker has died.\n",
            "  UserWarning)\n"
          ],
          "name": "stderr"
        },
        {
          "output_type": "stream",
          "text": [
            "\b\b\b\b\b\b\b\b\b\b\b\b\b\b\b\b\b\b\b\b\b\b\b\b\b\b\b\b\b\b\b\b\b\b\b\b\b\b\b\b\b\b\b\b\b\b\b\b\b\b\b\b\b\b\b\b\b\b\b\b\b\b\b\b\b\b\r18/32 [===============>..............] - ETA: 39:31 - loss: 1.8513"
          ],
          "name": "stdout"
        },
        {
          "output_type": "stream",
          "text": [
            "/usr/local/lib/python3.6/dist-packages/keras/utils/data_utils.py:616: UserWarning: The input 26 could not be retrieved. It could be because a worker has died.\n",
            "  UserWarning)\n"
          ],
          "name": "stderr"
        },
        {
          "output_type": "stream",
          "text": [
            "\b\b\b\b\b\b\b\b\b\b\b\b\b\b\b\b\b\b\b\b\b\b\b\b\b\b\b\b\b\b\b\b\b\b\b\b\b\b\b\b\b\b\b\b\b\b\b\b\b\b\b\b\b\b\b\b\b\b\b\b\b\b\b\b\b\b\r19/32 [================>.............] - ETA: 36:42 - loss: 1.7539"
          ],
          "name": "stdout"
        },
        {
          "output_type": "stream",
          "text": [
            "/usr/local/lib/python3.6/dist-packages/keras/utils/data_utils.py:616: UserWarning: The input 15 could not be retrieved. It could be because a worker has died.\n",
            "  UserWarning)\n"
          ],
          "name": "stderr"
        },
        {
          "output_type": "stream",
          "text": [
            "\b\b\b\b\b\b\b\b\b\b\b\b\b\b\b\b\b\b\b\b\b\b\b\b\b\b\b\b\b\b\b\b\b\b\b\b\b\b\b\b\b\b\b\b\b\b\b\b\b\b\b\b\b\b\b\b\b\b\b\b\b\b\b\b\b\b\r20/32 [=================>............] - ETA: 33:59 - loss: 1.6662"
          ],
          "name": "stdout"
        },
        {
          "output_type": "stream",
          "text": [
            "/usr/local/lib/python3.6/dist-packages/keras/utils/data_utils.py:616: UserWarning: The input 31 could not be retrieved. It could be because a worker has died.\n",
            "  UserWarning)\n"
          ],
          "name": "stderr"
        },
        {
          "output_type": "stream",
          "text": [
            "\b\b\b\b\b\b\b\b\b\b\b\b\b\b\b\b\b\b\b\b\b\b\b\b\b\b\b\b\b\b\b\b\b\b\b\b\b\b\b\b\b\b\b\b\b\b\b\b\b\b\b\b\b\b\b\b\b\b\b\b\b\b\b\b\b\b\r21/32 [==================>...........] - ETA: 29:59 - loss: 1.5869"
          ],
          "name": "stdout"
        },
        {
          "output_type": "stream",
          "text": [
            "/usr/local/lib/python3.6/dist-packages/keras/utils/data_utils.py:616: UserWarning: The input 1 could not be retrieved. It could be because a worker has died.\n",
            "  UserWarning)\n"
          ],
          "name": "stderr"
        },
        {
          "output_type": "stream",
          "text": [
            "\b\b\b\b\b\b\b\b\b\b\b\b\b\b\b\b\b\b\b\b\b\b\b\b\b\b\b\b\b\b\b\b\b\b\b\b\b\b\b\b\b\b\b\b\b\b\b\b\b\b\b\b\b\b\b\b\b\b\b\b\b\b\b\b\b\b\r22/32 [===================>..........] - ETA: 27:33 - loss: 1.5148"
          ],
          "name": "stdout"
        },
        {
          "output_type": "stream",
          "text": [
            "/usr/local/lib/python3.6/dist-packages/keras/utils/data_utils.py:616: UserWarning: The input 16 could not be retrieved. It could be because a worker has died.\n",
            "  UserWarning)\n"
          ],
          "name": "stderr"
        },
        {
          "output_type": "stream",
          "text": [
            "\b\b\b\b\b\b\b\b\b\b\b\b\b\b\b\b\b\b\b\b\b\b\b\b\b\b\b\b\b\b\b\b\b\b\b\b\b\b\b\b\b\b\b\b\b\b\b\b\b\b\b\b\b\b\b\b\b\b\b\b\b\b\b\b\b\b\r23/32 [====================>.........] - ETA: 24:49 - loss: 1.4489"
          ],
          "name": "stdout"
        },
        {
          "output_type": "stream",
          "text": [
            "/usr/local/lib/python3.6/dist-packages/keras/utils/data_utils.py:616: UserWarning: The input 13 could not be retrieved. It could be because a worker has died.\n",
            "  UserWarning)\n"
          ],
          "name": "stderr"
        },
        {
          "output_type": "stream",
          "text": [
            "\b\b\b\b\b\b\b\b\b\b\b\b\b\b\b\b\b\b\b\b\b\b\b\b\b\b\b\b\b\b\b\b\b\b\b\b\b\b\b\b\b\b\b\b\b\b\b\b\b\b\b\b\b\b\b\b\b\b\b\b\b\b\b\b\b\b\r24/32 [=====================>........] - ETA: 22:05 - loss: 1.3886"
          ],
          "name": "stdout"
        },
        {
          "output_type": "stream",
          "text": [
            "/usr/local/lib/python3.6/dist-packages/keras/utils/data_utils.py:616: UserWarning: The input 20 could not be retrieved. It could be because a worker has died.\n",
            "  UserWarning)\n"
          ],
          "name": "stderr"
        },
        {
          "output_type": "stream",
          "text": [
            "\b\b\b\b\b\b\b\b\b\b\b\b\b\b\b\b\b\b\b\b\b\b\b\b\b\b\b\b\b\b\b\b\b\b\b\b\b\b\b\b\b\b\b\b\b\b\b\b\b\b\b\b\b\b\b\b\b\b\b\b\b\b\b\b\b\b\r25/32 [======================>.......] - ETA: 19:18 - loss: 1.3331"
          ],
          "name": "stdout"
        },
        {
          "output_type": "stream",
          "text": [
            "/usr/local/lib/python3.6/dist-packages/keras/utils/data_utils.py:616: UserWarning: The input 29 could not be retrieved. It could be because a worker has died.\n",
            "  UserWarning)\n"
          ],
          "name": "stderr"
        },
        {
          "output_type": "stream",
          "text": [
            "\b\b\b\b\b\b\b\b\b\b\b\b\b\b\b\b\b\b\b\b\b\b\b\b\b\b\b\b\b\b\b\b\b\b\b\b\b\b\b\b\b\b\b\b\b\b\b\b\b\b\b\b\b\b\b\b\b\b\b\b\b\b\b\b\b\b\r26/32 [=======================>......] - ETA: 16:34 - loss: 1.2818"
          ],
          "name": "stdout"
        },
        {
          "output_type": "stream",
          "text": [
            "/usr/local/lib/python3.6/dist-packages/keras/utils/data_utils.py:616: UserWarning: The input 12 could not be retrieved. It could be because a worker has died.\n",
            "  UserWarning)\n"
          ],
          "name": "stderr"
        },
        {
          "output_type": "stream",
          "text": [
            "\b\b\b\b\b\b\b\b\b\b\b\b\b\b\b\b\b\b\b\b\b\b\b\b\b\b\b\b\b\b\b\b\b\b\b\b\b\b\b\b\b\b\b\b\b\b\b\b\b\b\b\b\b\b\b\b\b\b\b\b\b\b\b\b\b\b\r27/32 [========================>.....] - ETA: 13:48 - loss: 1.2343"
          ],
          "name": "stdout"
        },
        {
          "output_type": "stream",
          "text": [
            "/usr/local/lib/python3.6/dist-packages/keras/utils/data_utils.py:616: UserWarning: The input 4 could not be retrieved. It could be because a worker has died.\n",
            "  UserWarning)\n"
          ],
          "name": "stderr"
        },
        {
          "output_type": "stream",
          "text": [
            "\b\b\b\b\b\b\b\b\b\b\b\b\b\b\b\b\b\b\b\b\b\b\b\b\b\b\b\b\b\b\b\b\b\b\b\b\b\b\b\b\b\b\b\b\b\b\b\b\b\b\b\b\b\b\b\b\b\b\b\b\b\b\b\b\b\b\r28/32 [=========================>....] - ETA: 11:02 - loss: 1.1903"
          ],
          "name": "stdout"
        },
        {
          "output_type": "stream",
          "text": [
            "/usr/local/lib/python3.6/dist-packages/keras/utils/data_utils.py:616: UserWarning: The input 19 could not be retrieved. It could be because a worker has died.\n",
            "  UserWarning)\n"
          ],
          "name": "stderr"
        },
        {
          "output_type": "stream",
          "text": [
            "\b\b\b\b\b\b\b\b\b\b\b\b\b\b\b\b\b\b\b\b\b\b\b\b\b\b\b\b\b\b\b\b\b\b\b\b\b\b\b\b\b\b\b\b\b\b\b\b\b\b\b\b\b\b\b\b\b\b\b\b\b\b\b\b\b\b\r29/32 [==========================>...] - ETA: 8:17 - loss: 1.1492 "
          ],
          "name": "stdout"
        },
        {
          "output_type": "stream",
          "text": [
            "/usr/local/lib/python3.6/dist-packages/keras/utils/data_utils.py:616: UserWarning: The input 28 could not be retrieved. It could be because a worker has died.\n",
            "  UserWarning)\n"
          ],
          "name": "stderr"
        },
        {
          "output_type": "stream",
          "text": [
            "\b\b\b\b\b\b\b\b\b\b\b\b\b\b\b\b\b\b\b\b\b\b\b\b\b\b\b\b\b\b\b\b\b\b\b\b\b\b\b\b\b\b\b\b\b\b\b\b\b\b\b\b\b\b\b\b\b\b\b\b\b\b\b\b\b\r30/32 [===========================>..] - ETA: 5:32 - loss: 1.1109"
          ],
          "name": "stdout"
        },
        {
          "output_type": "stream",
          "text": [
            "/usr/local/lib/python3.6/dist-packages/keras/utils/data_utils.py:616: UserWarning: The input 10 could not be retrieved. It could be because a worker has died.\n",
            "  UserWarning)\n"
          ],
          "name": "stderr"
        },
        {
          "output_type": "stream",
          "text": [
            "\b\b\b\b\b\b\b\b\b\b\b\b\b\b\b\b\b\b\b\b\b\b\b\b\b\b\b\b\b\b\b\b\b\b\b\b\b\b\b\b\b\b\b\b\b\b\b\b\b\b\b\b\b\b\b\b\b\b\b\b\b\b\b\b\b\r31/32 [============================>.] - ETA: 2:46 - loss: 1.0751"
          ],
          "name": "stdout"
        },
        {
          "output_type": "stream",
          "text": [
            "/usr/local/lib/python3.6/dist-packages/keras/utils/data_utils.py:616: UserWarning: The input 5 could not be retrieved. It could be because a worker has died.\n",
            "  UserWarning)\n"
          ],
          "name": "stderr"
        },
        {
          "output_type": "stream",
          "text": [
            "\b\b\b\b\b\b\b\b\b\b\b\b\b\b\b\b\b\b\b\b\b\b\b\b\b\b\b\b\b\b\b\b\b\b\b\b\b\b\b\b\b\b\b\b\b\b\b\b\b\b\b\b\b\b\b\b\b\b\b\b\b\b\b\b\b\r32/32 [==============================] - 5383s 168s/step - loss: 1.0423 - val_loss: 3.6413e-04\n",
            "\n",
            "Epoch 00001: saving model to /content/Drive/My Drive/autoencoderData/Output_Autoencoder/encoded_decoded_weightss.h5\n",
            "Epoch 2/2000\n",
            "32/32 [==============================] - 221s 7s/step - loss: 3.8800e-04 - val_loss: 3.6197e-04\n",
            "\n",
            "Epoch 00002: saving model to /content/Drive/My Drive/autoencoderData/Output_Autoencoder/encoded_decoded_weightss.h5\n",
            "Epoch 3/2000\n",
            "32/32 [==============================] - 222s 7s/step - loss: 3.7719e-04 - val_loss: 3.5793e-04\n",
            "\n",
            "Epoch 00003: saving model to /content/Drive/My Drive/autoencoderData/Output_Autoencoder/encoded_decoded_weightss.h5\n",
            "Epoch 4/2000\n",
            "32/32 [==============================] - 220s 7s/step - loss: 3.6274e-04 - val_loss: 3.4870e-04\n",
            "\n",
            "Epoch 00004: saving model to /content/Drive/My Drive/autoencoderData/Output_Autoencoder/encoded_decoded_weightss.h5\n",
            "Epoch 5/2000\n",
            "32/32 [==============================] - 222s 7s/step - loss: 3.3945e-04 - val_loss: 3.2768e-04\n",
            "\n",
            "Epoch 00005: saving model to /content/Drive/My Drive/autoencoderData/Output_Autoencoder/encoded_decoded_weightss.h5\n",
            "Epoch 6/2000\n",
            "32/32 [==============================] - 217s 7s/step - loss: 3.0837e-04 - val_loss: 2.9001e-04\n",
            "\n",
            "Epoch 00006: saving model to /content/Drive/My Drive/autoencoderData/Output_Autoencoder/encoded_decoded_weightss.h5\n",
            "Epoch 7/2000\n",
            "32/32 [==============================] - 215s 7s/step - loss: 2.6884e-04 - val_loss: 2.5047e-04\n",
            "\n",
            "Epoch 00007: saving model to /content/Drive/My Drive/autoencoderData/Output_Autoencoder/encoded_decoded_weightss.h5\n",
            "Epoch 8/2000\n",
            "32/32 [==============================] - 214s 7s/step - loss: 2.3982e-04 - val_loss: 2.3671e-04\n",
            "\n",
            "Epoch 00008: saving model to /content/Drive/My Drive/autoencoderData/Output_Autoencoder/encoded_decoded_weightss.h5\n",
            "Epoch 9/2000\n",
            "32/32 [==============================] - 212s 7s/step - loss: 2.3572e-04 - val_loss: 2.3601e-04\n",
            "\n",
            "Epoch 00009: saving model to /content/Drive/My Drive/autoencoderData/Output_Autoencoder/encoded_decoded_weightss.h5\n",
            "Epoch 10/2000\n",
            "32/32 [==============================] - 212s 7s/step - loss: 2.3626e-04 - val_loss: 2.3661e-04\n",
            "\n",
            "Epoch 00010: saving model to /content/Drive/My Drive/autoencoderData/Output_Autoencoder/encoded_decoded_weightss.h5\n",
            "Epoch 11/2000\n",
            "32/32 [==============================] - 213s 7s/step - loss: 2.3557e-04 - val_loss: 2.3572e-04\n",
            "\n",
            "Epoch 00011: saving model to /content/Drive/My Drive/autoencoderData/Output_Autoencoder/encoded_decoded_weightss.h5\n",
            "Epoch 12/2000\n",
            "32/32 [==============================] - 211s 7s/step - loss: 2.3552e-04 - val_loss: 2.3553e-04\n",
            "\n",
            "Epoch 00012: saving model to /content/Drive/My Drive/autoencoderData/Output_Autoencoder/encoded_decoded_weightss.h5\n",
            "Epoch 13/2000\n",
            "32/32 [==============================] - 207s 6s/step - loss: 2.3549e-04 - val_loss: 2.3546e-04\n",
            "\n",
            "Epoch 00013: saving model to /content/Drive/My Drive/autoencoderData/Output_Autoencoder/encoded_decoded_weightss.h5\n",
            "Epoch 14/2000\n",
            "32/32 [==============================] - 206s 6s/step - loss: 2.3549e-04 - val_loss: 2.3540e-04\n",
            "\n",
            "Epoch 00014: saving model to /content/Drive/My Drive/autoencoderData/Output_Autoencoder/encoded_decoded_weightss.h5\n",
            "Epoch 15/2000\n",
            "32/32 [==============================] - 203s 6s/step - loss: 2.3547e-04 - val_loss: 2.3537e-04\n",
            "\n",
            "Epoch 00015: saving model to /content/Drive/My Drive/autoencoderData/Output_Autoencoder/encoded_decoded_weightss.h5\n",
            "Epoch 16/2000\n",
            "32/32 [==============================] - 201s 6s/step - loss: 2.3551e-04 - val_loss: 2.3535e-04\n",
            "\n",
            "Epoch 00016: saving model to /content/Drive/My Drive/autoencoderData/Output_Autoencoder/encoded_decoded_weightss.h5\n",
            "Epoch 17/2000\n",
            "32/32 [==============================] - 200s 6s/step - loss: 2.3546e-04 - val_loss: 2.3534e-04\n",
            "\n",
            "Epoch 00017: saving model to /content/Drive/My Drive/autoencoderData/Output_Autoencoder/encoded_decoded_weightss.h5\n",
            "Epoch 18/2000\n",
            "32/32 [==============================] - 198s 6s/step - loss: 2.3545e-04 - val_loss: 2.3534e-04\n",
            "\n",
            "Epoch 00018: saving model to /content/Drive/My Drive/autoencoderData/Output_Autoencoder/encoded_decoded_weightss.h5\n",
            "Epoch 19/2000\n",
            "32/32 [==============================] - 199s 6s/step - loss: 2.3545e-04 - val_loss: 2.3533e-04\n",
            "\n",
            "Epoch 00019: saving model to /content/Drive/My Drive/autoencoderData/Output_Autoencoder/encoded_decoded_weightss.h5\n",
            "Epoch 20/2000\n",
            "32/32 [==============================] - 198s 6s/step - loss: 2.3544e-04 - val_loss: 2.3533e-04\n",
            "\n",
            "Epoch 00020: saving model to /content/Drive/My Drive/autoencoderData/Output_Autoencoder/encoded_decoded_weightss.h5\n",
            "Epoch 21/2000\n",
            "32/32 [==============================] - 197s 6s/step - loss: 2.3544e-04 - val_loss: 2.3532e-04\n",
            "\n",
            "Epoch 00021: saving model to /content/Drive/My Drive/autoencoderData/Output_Autoencoder/encoded_decoded_weightss.h5\n",
            "Epoch 22/2000\n",
            "32/32 [==============================] - 197s 6s/step - loss: 2.3560e-04 - val_loss: 2.3594e-04\n",
            "\n",
            "Epoch 00022: saving model to /content/Drive/My Drive/autoencoderData/Output_Autoencoder/encoded_decoded_weightss.h5\n",
            "Epoch 23/2000\n",
            "32/32 [==============================] - 195s 6s/step - loss: 2.3552e-04 - val_loss: 2.3556e-04\n",
            "\n",
            "Epoch 00023: saving model to /content/Drive/My Drive/autoencoderData/Output_Autoencoder/encoded_decoded_weightss.h5\n",
            "Epoch 24/2000\n",
            "32/32 [==============================] - 196s 6s/step - loss: 2.3549e-04 - val_loss: 2.3546e-04\n",
            "\n",
            "Epoch 00024: saving model to /content/Drive/My Drive/autoencoderData/Output_Autoencoder/encoded_decoded_weightss.h5\n",
            "Epoch 25/2000\n",
            "32/32 [==============================] - 197s 6s/step - loss: 2.3548e-04 - val_loss: 2.3541e-04\n",
            "\n",
            "Epoch 00025: saving model to /content/Drive/My Drive/autoencoderData/Output_Autoencoder/encoded_decoded_weightss.h5\n",
            "Epoch 26/2000\n",
            "32/32 [==============================] - 196s 6s/step - loss: 2.3547e-04 - val_loss: 2.3538e-04\n",
            "\n",
            "Epoch 00026: saving model to /content/Drive/My Drive/autoencoderData/Output_Autoencoder/encoded_decoded_weightss.h5\n",
            "Epoch 27/2000\n",
            "32/32 [==============================] - 196s 6s/step - loss: 2.3553e-04 - val_loss: 2.3535e-04\n",
            "\n",
            "Epoch 00027: saving model to /content/Drive/My Drive/autoencoderData/Output_Autoencoder/encoded_decoded_weightss.h5\n",
            "Epoch 28/2000\n",
            "32/32 [==============================] - 197s 6s/step - loss: 2.3547e-04 - val_loss: 2.3534e-04\n",
            "\n",
            "Epoch 00028: saving model to /content/Drive/My Drive/autoencoderData/Output_Autoencoder/encoded_decoded_weightss.h5\n",
            "Epoch 29/2000\n",
            "32/32 [==============================] - 196s 6s/step - loss: 2.3546e-04 - val_loss: 2.3533e-04\n",
            "\n",
            "Epoch 00029: saving model to /content/Drive/My Drive/autoencoderData/Output_Autoencoder/encoded_decoded_weightss.h5\n",
            "Epoch 30/2000\n",
            "32/32 [==============================] - 200s 6s/step - loss: 2.3545e-04 - val_loss: 2.3533e-04\n",
            "\n",
            "Epoch 00030: saving model to /content/Drive/My Drive/autoencoderData/Output_Autoencoder/encoded_decoded_weightss.h5\n",
            "Epoch 31/2000\n",
            "32/32 [==============================] - 202s 6s/step - loss: 2.3544e-04 - val_loss: 2.3532e-04\n",
            "\n",
            "Epoch 00031: saving model to /content/Drive/My Drive/autoencoderData/Output_Autoencoder/encoded_decoded_weightss.h5\n",
            "Epoch 32/2000\n",
            "32/32 [==============================] - 203s 6s/step - loss: 2.3549e-04 - val_loss: 2.3532e-04\n",
            "\n",
            "Epoch 00032: saving model to /content/Drive/My Drive/autoencoderData/Output_Autoencoder/encoded_decoded_weightss.h5\n",
            "Epoch 33/2000\n",
            "32/32 [==============================] - 206s 6s/step - loss: 2.3543e-04 - val_loss: 2.3532e-04\n",
            "\n",
            "Epoch 00033: saving model to /content/Drive/My Drive/autoencoderData/Output_Autoencoder/encoded_decoded_weightss.h5\n",
            "Epoch 34/2000\n",
            "32/32 [==============================] - 203s 6s/step - loss: 2.3543e-04 - val_loss: 2.3532e-04\n",
            "\n",
            "Epoch 00034: saving model to /content/Drive/My Drive/autoencoderData/Output_Autoencoder/encoded_decoded_weightss.h5\n",
            "Epoch 35/2000\n",
            "32/32 [==============================] - 201s 6s/step - loss: 2.3543e-04 - val_loss: 2.3531e-04\n",
            "\n",
            "Epoch 00035: saving model to /content/Drive/My Drive/autoencoderData/Output_Autoencoder/encoded_decoded_weightss.h5\n",
            "Epoch 36/2000\n",
            "32/32 [==============================] - 200s 6s/step - loss: 2.3543e-04 - val_loss: 2.3531e-04\n",
            "\n",
            "Epoch 00036: saving model to /content/Drive/My Drive/autoencoderData/Output_Autoencoder/encoded_decoded_weightss.h5\n",
            "Epoch 37/2000\n",
            "32/32 [==============================] - 197s 6s/step - loss: 2.3542e-04 - val_loss: 2.3531e-04\n",
            "\n",
            "Epoch 00037: saving model to /content/Drive/My Drive/autoencoderData/Output_Autoencoder/encoded_decoded_weightss.h5\n",
            "Epoch 38/2000\n",
            "32/32 [==============================] - 197s 6s/step - loss: 2.3542e-04 - val_loss: 2.3531e-04\n",
            "\n",
            "Epoch 00038: saving model to /content/Drive/My Drive/autoencoderData/Output_Autoencoder/encoded_decoded_weightss.h5\n",
            "Epoch 39/2000\n",
            "32/32 [==============================] - 197s 6s/step - loss: 2.3542e-04 - val_loss: 2.3531e-04\n",
            "\n",
            "Epoch 00039: saving model to /content/Drive/My Drive/autoencoderData/Output_Autoencoder/encoded_decoded_weightss.h5\n",
            "Epoch 40/2000\n",
            "32/32 [==============================] - 197s 6s/step - loss: 2.3549e-04 - val_loss: 2.3530e-04\n",
            "\n",
            "Epoch 00040: saving model to /content/Drive/My Drive/autoencoderData/Output_Autoencoder/encoded_decoded_weightss.h5\n",
            "Epoch 41/2000\n",
            "32/32 [==============================] - 200s 6s/step - loss: 2.3542e-04 - val_loss: 2.3530e-04\n",
            "\n",
            "Epoch 00041: saving model to /content/Drive/My Drive/autoencoderData/Output_Autoencoder/encoded_decoded_weightss.h5\n",
            "Epoch 42/2000\n",
            "32/32 [==============================] - 202s 6s/step - loss: 2.3541e-04 - val_loss: 2.3530e-04\n",
            "\n",
            "Epoch 00042: saving model to /content/Drive/My Drive/autoencoderData/Output_Autoencoder/encoded_decoded_weightss.h5\n",
            "Epoch 43/2000\n",
            "32/32 [==============================] - 202s 6s/step - loss: 2.3541e-04 - val_loss: 2.3530e-04\n",
            "\n",
            "Epoch 00043: saving model to /content/Drive/My Drive/autoencoderData/Output_Autoencoder/encoded_decoded_weightss.h5\n",
            "Epoch 44/2000\n",
            "32/32 [==============================] - 204s 6s/step - loss: 2.3542e-04 - val_loss: 2.3530e-04\n",
            "\n",
            "Epoch 00044: saving model to /content/Drive/My Drive/autoencoderData/Output_Autoencoder/encoded_decoded_weightss.h5\n",
            "Epoch 45/2000\n",
            "32/32 [==============================] - 204s 6s/step - loss: 2.3541e-04 - val_loss: 2.3530e-04\n",
            "\n",
            "Epoch 00045: saving model to /content/Drive/My Drive/autoencoderData/Output_Autoencoder/encoded_decoded_weightss.h5\n",
            "Epoch 46/2000\n",
            "32/32 [==============================] - 204s 6s/step - loss: 2.3541e-04 - val_loss: 2.3530e-04\n",
            "\n",
            "Epoch 00046: saving model to /content/Drive/My Drive/autoencoderData/Output_Autoencoder/encoded_decoded_weightss.h5\n",
            "Epoch 47/2000\n",
            "32/32 [==============================] - 204s 6s/step - loss: 2.3541e-04 - val_loss: 2.3529e-04\n",
            "\n",
            "Epoch 00047: saving model to /content/Drive/My Drive/autoencoderData/Output_Autoencoder/encoded_decoded_weightss.h5\n",
            "Epoch 48/2000\n",
            "32/32 [==============================] - 205s 6s/step - loss: 2.3541e-04 - val_loss: 2.3529e-04\n",
            "\n",
            "Epoch 00048: saving model to /content/Drive/My Drive/autoencoderData/Output_Autoencoder/encoded_decoded_weightss.h5\n",
            "Epoch 49/2000\n",
            "32/32 [==============================] - 205s 6s/step - loss: 2.3541e-04 - val_loss: 2.3529e-04\n",
            "\n",
            "Epoch 00049: saving model to /content/Drive/My Drive/autoencoderData/Output_Autoencoder/encoded_decoded_weightss.h5\n",
            "Epoch 50/2000\n",
            "32/32 [==============================] - 209s 7s/step - loss: 2.3543e-04 - val_loss: 2.3529e-04\n",
            "\n",
            "Epoch 00050: saving model to /content/Drive/My Drive/autoencoderData/Output_Autoencoder/encoded_decoded_weightss.h5\n",
            "Epoch 51/2000\n",
            "32/32 [==============================] - 219s 7s/step - loss: 2.3540e-04 - val_loss: 2.3529e-04\n",
            "\n",
            "Epoch 00051: saving model to /content/Drive/My Drive/autoencoderData/Output_Autoencoder/encoded_decoded_weightss.h5\n",
            "Epoch 52/2000\n",
            "32/32 [==============================] - 219s 7s/step - loss: 2.3540e-04 - val_loss: 2.3529e-04\n",
            "\n",
            "Epoch 00052: saving model to /content/Drive/My Drive/autoencoderData/Output_Autoencoder/encoded_decoded_weightss.h5\n",
            "Epoch 53/2000\n",
            "32/32 [==============================] - 221s 7s/step - loss: 2.3540e-04 - val_loss: 2.3529e-04\n",
            "\n",
            "Epoch 00053: saving model to /content/Drive/My Drive/autoencoderData/Output_Autoencoder/encoded_decoded_weightss.h5\n",
            "Epoch 54/2000\n",
            "32/32 [==============================] - 221s 7s/step - loss: 2.3540e-04 - val_loss: 2.3529e-04\n",
            "\n",
            "Epoch 00054: saving model to /content/Drive/My Drive/autoencoderData/Output_Autoencoder/encoded_decoded_weightss.h5\n",
            "Epoch 55/2000\n",
            "32/32 [==============================] - 218s 7s/step - loss: 2.3557e-04 - val_loss: 2.3586e-04\n",
            "\n",
            "Epoch 00055: saving model to /content/Drive/My Drive/autoencoderData/Output_Autoencoder/encoded_decoded_weightss.h5\n",
            "Epoch 56/2000\n",
            "32/32 [==============================] - 218s 7s/step - loss: 2.3552e-04 - val_loss: 2.3555e-04\n",
            "\n",
            "Epoch 00056: saving model to /content/Drive/My Drive/autoencoderData/Output_Autoencoder/encoded_decoded_weightss.h5\n",
            "Epoch 57/2000\n",
            "32/32 [==============================] - 217s 7s/step - loss: 2.3549e-04 - val_loss: 2.3546e-04\n",
            "\n",
            "Epoch 00057: saving model to /content/Drive/My Drive/autoencoderData/Output_Autoencoder/encoded_decoded_weightss.h5\n",
            "Epoch 58/2000\n",
            "32/32 [==============================] - 217s 7s/step - loss: 2.3549e-04 - val_loss: 2.3540e-04\n",
            "\n",
            "Epoch 00058: saving model to /content/Drive/My Drive/autoencoderData/Output_Autoencoder/encoded_decoded_weightss.h5\n",
            "Epoch 59/2000\n",
            "32/32 [==============================] - 215s 7s/step - loss: 2.3547e-04 - val_loss: 2.3537e-04\n",
            "\n",
            "Epoch 00059: saving model to /content/Drive/My Drive/autoencoderData/Output_Autoencoder/encoded_decoded_weightss.h5\n",
            "Epoch 60/2000\n",
            "32/32 [==============================] - 214s 7s/step - loss: 2.3547e-04 - val_loss: 2.3535e-04\n",
            "\n",
            "Epoch 00060: saving model to /content/Drive/My Drive/autoencoderData/Output_Autoencoder/encoded_decoded_weightss.h5\n",
            "Epoch 61/2000\n",
            "32/32 [==============================] - 215s 7s/step - loss: 2.3546e-04 - val_loss: 2.3534e-04\n",
            "\n",
            "Epoch 00061: saving model to /content/Drive/My Drive/autoencoderData/Output_Autoencoder/encoded_decoded_weightss.h5\n",
            "Epoch 62/2000\n",
            "32/32 [==============================] - 213s 7s/step - loss: 2.3545e-04 - val_loss: 2.3533e-04\n",
            "\n",
            "Epoch 00062: saving model to /content/Drive/My Drive/autoencoderData/Output_Autoencoder/encoded_decoded_weightss.h5\n",
            "Epoch 63/2000\n",
            "32/32 [==============================] - 215s 7s/step - loss: 2.3545e-04 - val_loss: 2.3533e-04\n",
            "\n",
            "Epoch 00063: saving model to /content/Drive/My Drive/autoencoderData/Output_Autoencoder/encoded_decoded_weightss.h5\n",
            "Epoch 64/2000\n",
            "32/32 [==============================] - 212s 7s/step - loss: 2.3544e-04 - val_loss: 2.3532e-04\n",
            "\n",
            "Epoch 00064: saving model to /content/Drive/My Drive/autoencoderData/Output_Autoencoder/encoded_decoded_weightss.h5\n",
            "Epoch 65/2000\n",
            "32/32 [==============================] - 211s 7s/step - loss: 2.3544e-04 - val_loss: 2.3532e-04\n",
            "\n",
            "Epoch 00065: saving model to /content/Drive/My Drive/autoencoderData/Output_Autoencoder/encoded_decoded_weightss.h5\n",
            "Epoch 66/2000\n",
            "32/32 [==============================] - 212s 7s/step - loss: 2.3544e-04 - val_loss: 2.3532e-04\n",
            "\n",
            "Epoch 00066: saving model to /content/Drive/My Drive/autoencoderData/Output_Autoencoder/encoded_decoded_weightss.h5\n",
            "Epoch 67/2000\n",
            "32/32 [==============================] - 216s 7s/step - loss: 2.3543e-04 - val_loss: 2.3531e-04\n",
            "\n",
            "Epoch 00067: saving model to /content/Drive/My Drive/autoencoderData/Output_Autoencoder/encoded_decoded_weightss.h5\n",
            "Epoch 68/2000\n",
            "32/32 [==============================] - 212s 7s/step - loss: 2.3543e-04 - val_loss: 2.3531e-04\n",
            "\n",
            "Epoch 00068: saving model to /content/Drive/My Drive/autoencoderData/Output_Autoencoder/encoded_decoded_weightss.h5\n",
            "Epoch 69/2000\n",
            "32/32 [==============================] - 216s 7s/step - loss: 2.3543e-04 - val_loss: 2.3531e-04\n",
            "\n",
            "Epoch 00069: saving model to /content/Drive/My Drive/autoencoderData/Output_Autoencoder/encoded_decoded_weightss.h5\n",
            "Epoch 70/2000\n",
            "32/32 [==============================] - 212s 7s/step - loss: 2.3542e-04 - val_loss: 2.3531e-04\n",
            "\n",
            "Epoch 00070: saving model to /content/Drive/My Drive/autoencoderData/Output_Autoencoder/encoded_decoded_weightss.h5\n",
            "Epoch 71/2000\n",
            "15/32 [=============>................] - ETA: 1:57 - loss: 2.3546e-04"
          ],
          "name": "stdout"
        }
      ]
    },
    {
      "cell_type": "code",
      "metadata": {
        "colab_type": "code",
        "id": "obGXobylMCvT",
        "colab": {}
      },
      "source": [
        ""
      ],
      "execution_count": null,
      "outputs": []
    }
  ]
}